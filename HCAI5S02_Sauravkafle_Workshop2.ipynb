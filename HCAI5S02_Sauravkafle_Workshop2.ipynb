{
 "cells": [
  {
   "cell_type": "code",
   "execution_count": 19,
   "id": "934c733d",
   "metadata": {},
   "outputs": [],
   "source": [
    "import pandas as pd\n",
    "\n",
    "# Set file path\n",
    "file_path = r'C:\\Users\\Dell\\Desktop\\HCAI5DS02_SauravKafle\\venv\\product_review_dataset.csv'\n",
    "\n",
    "# Load the CSV file into a DataFrame\n",
    "df = pd.read_csv(file_path)\n",
    "\n",
    "# Clean column names\n",
    "df.columns = df.columns.str.strip().str.lower()\n"
   ]
  },
  {
   "cell_type": "code",
   "execution_count": 20,
   "id": "895dc6ba",
   "metadata": {},
   "outputs": [
    {
     "name": "stdout",
     "output_type": "stream",
     "text": [
      "['defective', 'highreturn', 'reviewrating', 'hascomplaint', 'verifiedpurchase']\n"
     ]
    }
   ],
   "source": [
    "print(df.columns.tolist())\n",
    "\n"
   ]
  },
  {
   "cell_type": "code",
   "execution_count": 21,
   "id": "1c3ab6aa",
   "metadata": {},
   "outputs": [
    {
     "name": "stdout",
     "output_type": "stream",
     "text": [
      "P(defective): 0.0961\n"
     ]
    }
   ],
   "source": [
    "#Prior Probability\n",
    "p_defective = df['defective'].mean()\n",
    "print(\"P(defective):\", round(p_defective, 4))\n"
   ]
  },
  {
   "cell_type": "code",
   "execution_count": 22,
   "id": "958f1b93",
   "metadata": {},
   "outputs": [
    {
     "name": "stdout",
     "output_type": "stream",
     "text": [
      "Average Rating (Defective): 2.48\n",
      "Average Rating (Non-Defective): 4.18\n"
     ]
    }
   ],
   "source": [
    "avg_def = df[df['defective'] == True]['reviewrating'].mean()\n",
    "avg_nondef = df[df['defective'] == False]['reviewrating'].mean()\n",
    "\n",
    "print(f\"Average Rating (Defective): {avg_def:.2f}\")\n",
    "print(f\"Average Rating (Non-Defective): {avg_nondef:.2f}\")\n"
   ]
  },
  {
   "cell_type": "code",
   "execution_count": 23,
   "id": "5a570bed",
   "metadata": {},
   "outputs": [
    {
     "name": "stdout",
     "output_type": "stream",
     "text": [
      "P(HighReturn | Defective): 69.61%\n",
      "P(HighReturn | Not Defective): 10.26%\n",
      "P(Defective | HighReturn): 41.92%\n"
     ]
    }
   ],
   "source": [
    "\n",
    "\n",
    "# P(highreturn | defective)\n",
    "p_highreturn_given_def = df[df['defective'] == True]['highreturn'].mean()\n",
    "\n",
    "# P(highreturn | non-defective)\n",
    "p_highreturn_given_nondef = df[df['defective'] == False]['highreturn'].mean()\n",
    "\n",
    "# P(highreturn)\n",
    "p_highreturn = df['highreturn'].mean()\n",
    "\n",
    "# P(defective)\n",
    "p_defective = df['defective'].mean()\n",
    "\n",
    "# Bayes: P(defective | highreturn)\n",
    "p_def_given_highreturn = (p_highreturn_given_def * p_defective) / p_highreturn\n",
    "\n",
    "print(f\"P(HighReturn | Defective): {p_highreturn_given_def:.2%}\")\n",
    "print(f\"P(HighReturn | Not Defective): {p_highreturn_given_nondef:.2%}\")\n",
    "print(f\"P(Defective | HighReturn): {p_def_given_highreturn:.2%}\")\n"
   ]
  },
  {
   "cell_type": "code",
   "execution_count": 24,
   "id": "e02326fd",
   "metadata": {},
   "outputs": [
    {
     "name": "stdout",
     "output_type": "stream",
     "text": [
      "2.1 P(HighReturn | Defective): 0.6961\n",
      "    P(HighReturn | Not Defective): 0.1026\n",
      "    P(Defective | HighReturn): 0.4192\n"
     ]
    }
   ],
   "source": [
    "p_high_given_def = df[df['defective'] == 1]['highreturn'].mean()\n",
    "p_high_given_notdef = df[df['defective'] == 0]['highreturn'].mean()\n",
    "p_high_return = df['highreturn'].mean()\n",
    "p_def = df['defective'].mean()\n",
    "\n",
    "# P(Defective | HighReturn)\n",
    "p_def_given_high = (p_high_given_def * p_def) / p_high_return\n",
    "\n",
    "print(\"2.1 P(HighReturn | Defective):\", round(p_high_given_def, 4))\n",
    "print(\"    P(HighReturn | Not Defective):\", round(p_high_given_notdef, 4))\n",
    "print(\"    P(Defective | HighReturn):\", round(p_def_given_high, 4))\n"
   ]
  },
  {
   "cell_type": "markdown",
   "id": "f9bdbd1e",
   "metadata": {},
   "source": [
    "If P(Defective | HighReturn) ≈ 0.4192:\n",
    " Only ~41% of high-return items are defective.\n",
    "So, most high returns are due to non-defect reasons like preference or wrong sizing.\n",
    "Action: Do NOT recall based on high return alone. Use multiple factors.\n"
   ]
  },
  {
   "cell_type": "code",
   "execution_count": 25,
   "id": "d6d2c12e",
   "metadata": {},
   "outputs": [],
   "source": [
    "def calculate_risk(row):\n",
    "    score = 0\n",
    "    if row['highreturn'] == 1:\n",
    "        score += 1\n",
    "    if row['reviewrating'] <= 2:\n",
    "        score += 1\n",
    "    if row['hascomplaint']:\n",
    "        score += 1\n",
    "    return score\n",
    "\n",
    "df['riskscore'] = df.apply(calculate_risk, axis=1)\n"
   ]
  },
  {
   "cell_type": "code",
   "execution_count": 26,
   "id": "6249ca90",
   "metadata": {},
   "outputs": [
    {
     "name": "stdout",
     "output_type": "stream",
     "text": [
      "      defective  highreturn  reviewrating  hascomplaint  verifiedpurchase  \\\n",
      "9060          1           1           1.9          True              True   \n",
      "1024          1           1           1.5          True              True   \n",
      "7115          1           1           2.0          True              True   \n",
      "1220          1           1           1.6          True              True   \n",
      "2701          1           1           1.9          True              True   \n",
      "9584          1           1           1.0          True              True   \n",
      "540           1           1           1.1          True              True   \n",
      "240           1           1           1.6          True              True   \n",
      "7784          1           1           2.0          True              True   \n",
      "1121          1           1           1.8          True              True   \n",
      "\n",
      "      riskscore  \n",
      "9060          3  \n",
      "1024          3  \n",
      "7115          3  \n",
      "1220          3  \n",
      "2701          3  \n",
      "9584          3  \n",
      "540           3  \n",
      "240           3  \n",
      "7784          3  \n",
      "1121          3  \n"
     ]
    }
   ],
   "source": [
    "top_10_risk = df.sort_values(by='riskscore', ascending=False).head(10)\n",
    "print(top_10_risk[['defective', 'highreturn', 'reviewrating', 'hascomplaint', 'verifiedpurchase', 'riskscore']])\n"
   ]
  },
  {
   "cell_type": "markdown",
   "id": "90fbed19",
   "metadata": {},
   "source": [
    "## Decision Making\n"
   ]
  },
  {
   "cell_type": "code",
   "execution_count": 27,
   "id": "8b569e6f",
   "metadata": {},
   "outputs": [
    {
     "name": "stdout",
     "output_type": "stream",
     "text": [
      "Risk Score for Example Product: 3\n",
      "Recommend: QA check or consider recall\n"
     ]
    }
   ],
   "source": [
    "# Example product:\n",
    "example_product = {\n",
    "    'highreturn': 1,\n",
    "    'reviewrating': 1.5,\n",
    "    'hascomplaint': True,\n",
    "    'verifiedpurchase': False\n",
    "}\n",
    "\n",
    "# Calculate risk score\n",
    "risk_score = 0\n",
    "if example_product['highreturn'] == 1:\n",
    "    risk_score += 1\n",
    "if example_product['reviewrating'] <= 2:\n",
    "    risk_score += 1\n",
    "if example_product['hascomplaint']:\n",
    "    risk_score += 1\n",
    "\n",
    "print(\"Risk Score for Example Product:\", risk_score)\n",
    "if risk_score >= 2:\n",
    "    print(\"Recommend: QA check or consider recall\")\n",
    "else:\n",
    "    print(\"Recommend: Monitor, no recall needed yet\")\n"
   ]
  },
  {
   "cell_type": "markdown",
   "id": "3e7874d6",
   "metadata": {},
   "source": [
    "### Additional data that would help:\n",
    "- Reason for return (e.g., size issue, broken, changed mind)\n",
    "- Product category/type\n",
    "- Supplier/manufacturer info\n",
    "- Delivery damage reports\n",
    "- Time since purchase\n",
    "- Customer sentiment in reviews (via NLP)\n"
   ]
  }
 ],
 "metadata": {
  "kernelspec": {
   "display_name": "venv",
   "language": "python",
   "name": "python3"
  },
  "language_info": {
   "codemirror_mode": {
    "name": "ipython",
    "version": 3
   },
   "file_extension": ".py",
   "mimetype": "text/x-python",
   "name": "python",
   "nbconvert_exporter": "python",
   "pygments_lexer": "ipython3",
   "version": "3.13.0"
  }
 },
 "nbformat": 4,
 "nbformat_minor": 5
}
