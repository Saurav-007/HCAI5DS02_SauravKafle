{
 "cells": [
  {
   "cell_type": "code",
   "execution_count": 1,
   "id": "3cbf1100",
   "metadata": {},
   "outputs": [
    {
     "name": "stdout",
     "output_type": "stream",
     "text": [
      "a) 95%, n = 19, t-critical: 2.1009\n",
      "b) 90%, n = 27, t-critical: 1.7056\n",
      "c) 80%, n = 7, t-critical: 1.4398\n"
     ]
    }
   ],
   "source": [
    "import scipy.stats as stats\n",
    "\n",
    "def get_t_critical_value(confidence_level, n):\n",
    "    df = n - 1  # Degrees of freedom\n",
    "    alpha = 1 - confidence_level\n",
    "    t_critical = stats.t.ppf(1 - alpha / 2, df)  # two-tailed\n",
    "    return round(t_critical, 4)\n",
    "\n",
    "# Test cases\n",
    "print(\"a) 95%, n = 19, t-critical:\", get_t_critical_value(0.95, 19))\n",
    "print(\"b) 90%, n = 27, t-critical:\", get_t_critical_value(0.90, 27))\n",
    "print(\"c) 80%, n = 7, t-critical:\", get_t_critical_value(0.80, 7))\n"
   ]
  },
  {
   "cell_type": "code",
   "execution_count": 2,
   "id": "d17c836c",
   "metadata": {},
   "outputs": [],
   "source": [
    "import math\n",
    "from scipy.stats import norm\n",
    "\n",
    "def required_sample_size(confidence_level, sigma, margin_or_width, is_width=True):\n",
    "\n",
    "    E = margin_or_width / 2 if is_width else margin_or_width\n",
    "    alpha = 1 - confidence_level\n",
    "    z = norm.ppf(1 - alpha / 2)\n",
    "    n = (z * sigma / E) ** 2\n",
    "    return math.ceil(n)\n"
   ]
  },
  {
   "cell_type": "code",
   "execution_count": 3,
   "id": "b89530a1",
   "metadata": {},
   "outputs": [
    {
     "name": "stdout",
     "output_type": "stream",
     "text": [
      "(a) Required sample size: 2\n",
      "(b) Required sample size: 14\n",
      "(c) Required sample size: 1\n",
      "(d) Required sample size: 74\n"
     ]
    }
   ],
   "source": [
    "# (a) σ = 4, 90% CI, width = 10 → E = 5\n",
    "a = required_sample_size(confidence_level=0.90, sigma=4, margin_or_width=10, is_width=True)\n",
    "\n",
    "# (b) σ = 12, 98% CI, width = 15 → E = 7.5\n",
    "b = required_sample_size(confidence_level=0.98, sigma=12, margin_or_width=15, is_width=True)\n",
    "\n",
    "# (c) σ = 2, 92% CI, margin = 5\n",
    "c = required_sample_size(confidence_level=0.92, sigma=2, margin_or_width=5, is_width=False)\n",
    "\n",
    "# (d) σ = 10, 99% CI, margin = 3\n",
    "d = required_sample_size(confidence_level=0.99, sigma=10, margin_or_width=3, is_width=False)\n",
    "\n",
    "# Print results\n",
    "print(f\"(a) Required sample size: {a}\")\n",
    "print(f\"(b) Required sample size: {b}\")\n",
    "print(f\"(c) Required sample size: {c}\")\n",
    "print(f\"(d) Required sample size: {d}\")\n",
    "\n"
   ]
  },
  {
   "cell_type": "markdown",
   "id": "4b6ac163",
   "metadata": {},
   "source": []
  },
  {
   "cell_type": "code",
   "execution_count": 4,
   "id": "73ea6fa8",
   "metadata": {},
   "outputs": [
    {
     "name": "stdout",
     "output_type": "stream",
     "text": [
      "Standard Error (SE): 0.474%\n",
      "Margin of Error (ME): 0.930%\n",
      "95% Confidence Interval: (11.07%, 12.93%)\n"
     ]
    }
   ],
   "source": [
    "import math\n",
    "\n",
    "# Given values\n",
    "n = 40\n",
    "x_bar = 12      # mean in %\n",
    "s = 3           # std deviation in %\n",
    "confidence = 0.95\n",
    "\n",
    "# Since n >= 30, use z-critical for 95%\n",
    "z = 1.96\n",
    "\n",
    "# Standard Error\n",
    "SE = s / math.sqrt(n)\n",
    "\n",
    "# Margin of Error\n",
    "ME = z * SE\n",
    "\n",
    "# Confidence Interval\n",
    "lower = x_bar - ME\n",
    "upper = x_bar + ME\n",
    "\n",
    "print(f\"Standard Error (SE): {SE:.3f}%\")\n",
    "print(f\"Margin of Error (ME): {ME:.3f}%\")\n",
    "print(f\"95% Confidence Interval: ({lower:.2f}%, {upper:.2f}%)\")\n"
   ]
  },
  {
   "cell_type": "code",
   "execution_count": 5,
   "id": "71e3f3b5",
   "metadata": {},
   "outputs": [
    {
     "name": "stdout",
     "output_type": "stream",
     "text": [
      "t-critical value: 1.6896\n",
      "Standard Error (SE): 0.3333\n",
      "Margin of Error (ME): 0.5632\n",
      "90% Confidence Interval: (13.44 mpg, 14.56 mpg)\n"
     ]
    }
   ],
   "source": [
    "import math\n",
    "from scipy import stats\n",
    "\n",
    "# Given data\n",
    "n = 36\n",
    "x_bar = 14       # sample mean (mpg)\n",
    "s = 2            # sample standard deviation (mpg)\n",
    "confidence = 0.90\n",
    "\n",
    "# Since n >= 30, we can use z, but let's use t to be exact\n",
    "df = n - 1  # degrees of freedom\n",
    "alpha = 1 - confidence\n",
    "t_crit = stats.t.ppf(1 - alpha/2, df)\n",
    "\n",
    "# Standard Error\n",
    "SE = s / math.sqrt(n)\n",
    "\n",
    "# Margin of Error\n",
    "ME = t_crit * SE\n",
    "\n",
    "# Confidence Interval\n",
    "lower = x_bar - ME\n",
    "upper = x_bar + ME\n",
    "\n",
    "print(f\"t-critical value: {t_crit:.4f}\")\n",
    "print(f\"Standard Error (SE): {SE:.4f}\")\n",
    "print(f\"Margin of Error (ME): {ME:.4f}\")\n",
    "print(f\"{int(confidence*100)}% Confidence Interval: ({lower:.2f} mpg, {upper:.2f} mpg)\")\n"
   ]
  },
  {
   "cell_type": "code",
   "execution_count": 6,
   "id": "45177229",
   "metadata": {},
   "outputs": [
    {
     "name": "stdout",
     "output_type": "stream",
     "text": [
      "Sample proportion (p̂): 0.800\n",
      "z-critical value: 1.9600\n",
      "Standard Error (SE): 0.0231\n",
      "Margin of Error (ME): 0.0453\n",
      "95% Confidence Interval: (0.755, 0.845)\n",
      "In percentage: (75.47%, 84.53%)\n"
     ]
    }
   ],
   "source": [
    "import math\n",
    "from scipy import stats\n",
    "\n",
    "# Given data\n",
    "n = 300\n",
    "x = 240\n",
    "p_hat = x / n  # sample proportion\n",
    "confidence = 0.95\n",
    "\n",
    "# z-critical value for 95% confidence\n",
    "z_crit = stats.norm.ppf(1 - (1 - confidence) / 2)\n",
    "\n",
    "# Standard Error for proportion\n",
    "SE = math.sqrt(p_hat * (1 - p_hat) / n)\n",
    "\n",
    "# Margin of Error\n",
    "ME = z_crit * SE\n",
    "\n",
    "# Confidence Interval\n",
    "lower = p_hat - ME\n",
    "upper = p_hat + ME\n",
    "\n",
    "print(f\"Sample proportion (p̂): {p_hat:.3f}\")\n",
    "print(f\"z-critical value: {z_crit:.4f}\")\n",
    "print(f\"Standard Error (SE): {SE:.4f}\")\n",
    "print(f\"Margin of Error (ME): {ME:.4f}\")\n",
    "print(f\"{int(confidence*100)}% Confidence Interval: ({lower:.3f}, {upper:.3f})\")\n",
    "print(f\"In percentage: ({lower*100:.2f}%, {upper*100:.2f}%)\")\n"
   ]
  },
  {
   "cell_type": "code",
   "execution_count": 7,
   "id": "ee216235",
   "metadata": {},
   "outputs": [
    {
     "name": "stdout",
     "output_type": "stream",
     "text": [
      "t-critical value: 2.7969\n",
      "Standard Error (SE): 120.0000\n",
      "Margin of Error (ME): 335.6327\n",
      "99% Confidence Interval: (3064.37, 3735.63)\n"
     ]
    }
   ],
   "source": [
    "import math\n",
    "from scipy import stats\n",
    "\n",
    "# Given data\n",
    "n = 25\n",
    "x_bar = 3400      # sample mean\n",
    "s = 600           # sample standard deviation\n",
    "confidence = 0.99\n",
    "\n",
    "# Degrees of freedom\n",
    "df = n - 1\n",
    "alpha = 1 - confidence\n",
    "\n",
    "# t-critical value for 99% CI\n",
    "t_crit = stats.t.ppf(1 - alpha/2, df)\n",
    "\n",
    "# Standard Error\n",
    "SE = s / math.sqrt(n)\n",
    "\n",
    "# Margin of Error\n",
    "ME = t_crit * SE\n",
    "\n",
    "# Confidence Interval\n",
    "lower = x_bar - ME\n",
    "upper = x_bar + ME\n",
    "\n",
    "print(f\"t-critical value: {t_crit:.4f}\")\n",
    "print(f\"Standard Error (SE): {SE:.4f}\")\n",
    "print(f\"Margin of Error (ME): {ME:.4f}\")\n",
    "print(f\"{int(confidence*100)}% Confidence Interval: ({lower:.2f}, {upper:.2f})\")\n"
   ]
  },
  {
   "cell_type": "code",
   "execution_count": 8,
   "id": "0c20c0ca",
   "metadata": {},
   "outputs": [
    {
     "name": "stdout",
     "output_type": "stream",
     "text": [
      "(a) Use t or z?\n",
      "Since sigma is unknown and n is small (<30), use t-distribution with df = 19\n",
      "\n",
      "(b) 95% CI:\n",
      "t-critical (95%): 2.0930\n",
      "Standard Error: 3.0634\n",
      "Margin of Error: 6.4118\n",
      "95% CI: (100.89, 113.71)\n",
      "Interpretation: We are 95% confident the true mean eggs per nest lies between 100.89 and 113.71.\n",
      "\n",
      "(c) 98% CI:\n",
      "t-critical (98%): 2.5395\n",
      "Margin of Error: 7.7795\n",
      "98% CI: (99.52, 115.08)\n",
      "Interpretation: We are 98% confident the true mean eggs per nest lies between 99.52 and 115.08.\n",
      "\n",
      "(d) Is mu=105 in the intervals?\n",
      "mu=105 in 95% CI? Yes\n",
      "mu=105 in 98% CI? Yes\n",
      "Conclusion: Both intervals captured the true mean, so they did a good job.\n"
     ]
    }
   ],
   "source": [
    "import math\n",
    "from scipy import stats\n",
    "\n",
    "# ==== GIVEN DATA ====\n",
    "n = 20\n",
    "x_bar = 107.3  # sample mean\n",
    "s = 13.7       # sample standard deviation\n",
    "df = n - 1\n",
    "SE = s / math.sqrt(n)\n",
    "\n",
    "print(\"(a) Use t or z?\")\n",
    "print(\"Since sigma is unknown and n is small (<30), use t-distribution with df =\", df)\n",
    "\n",
    "# --- (b) 95% CI ---\n",
    "confidence_95 = 0.95\n",
    "alpha_95 = 1 - confidence_95\n",
    "t_crit_95 = stats.t.ppf(1 - alpha_95/2, df)\n",
    "ME_95 = t_crit_95 * SE\n",
    "lower_95 = x_bar - ME_95\n",
    "upper_95 = x_bar + ME_95\n",
    "print(\"\\n(b) 95% CI:\")\n",
    "print(f\"t-critical (95%): {t_crit_95:.4f}\")\n",
    "print(f\"Standard Error: {SE:.4f}\")\n",
    "print(f\"Margin of Error: {ME_95:.4f}\")\n",
    "print(f\"95% CI: ({lower_95:.2f}, {upper_95:.2f})\")\n",
    "print(\"Interpretation: We are 95% confident the true mean eggs per nest lies between \"\n",
    "      f\"{lower_95:.2f} and {upper_95:.2f}.\")\n",
    "\n",
    "# --- (c) 98% CI ---\n",
    "confidence_98 = 0.98\n",
    "alpha_98 = 1 - confidence_98\n",
    "t_crit_98 = stats.t.ppf(1 - alpha_98/2, df)\n",
    "ME_98 = t_crit_98 * SE\n",
    "lower_98 = x_bar - ME_98\n",
    "upper_98 = x_bar + ME_98\n",
    "print(\"\\n(c) 98% CI:\")\n",
    "print(f\"t-critical (98%): {t_crit_98:.4f}\")\n",
    "print(f\"Margin of Error: {ME_98:.4f}\")\n",
    "print(f\"98% CI: ({lower_98:.2f}, {upper_98:.2f})\")\n",
    "print(\"Interpretation: We are 98% confident the true mean eggs per nest lies between \"\n",
    "      f\"{lower_98:.2f} and {upper_98:.2f}.\")\n",
    "\n",
    "# --- (d) Check if mu=105 is in the intervals ---\n",
    "mu = 105\n",
    "in_95 = lower_95 <= mu <= upper_95\n",
    "in_98 = lower_98 <= mu <= upper_98\n",
    "print(\"\\n(d) Is mu=105 in the intervals?\")\n",
    "print(f\"mu=105 in 95% CI? {'Yes' if in_95 else 'No'}\")\n",
    "print(f\"mu=105 in 98% CI? {'Yes' if in_98 else 'No'}\")\n",
    "print(\"Conclusion: Both intervals captured the true mean, so they did a good job.\")\n"
   ]
  },
  {
   "cell_type": "code",
   "execution_count": 9,
   "id": "d7218ebb",
   "metadata": {},
   "outputs": [
    {
     "name": "stdout",
     "output_type": "stream",
     "text": [
      "(a) Should we use z or t? \n",
      "Use t-distribution (df = n - 1 = 31).\n",
      "Reason: Population SD (σ) is unknown and we are estimating the mean from a sample.\n",
      "Even though n=32 is moderate, the correct one-sample mean interval uses t when σ is unknown.\n",
      "\n",
      "(b) 95% Confidence Interval for the mean commute time\n",
      "Standard Error (SE) = s/√n = 3.182 minutes\n",
      "t* (df=31, 95%) = 2.0395\n",
      "Margin of Error (ME) = t* × SE = 6.490 minutes\n",
      "95% CI = ( 24.51 , 37.49 ) minutes\n",
      "Interpretation: We are 95% confident the true mean commute time is between 24.51 and 37.49 minutes.\n",
      "\n",
      "(c) 90% Confidence Interval for the mean commute time\n",
      "Standard Error (SE) = s/√n = 3.182 minutes\n",
      "t* (df=31, 90%) = 1.6955\n",
      "Margin of Error (ME) = t* × SE = 5.395 minutes\n",
      "90% CI = ( 25.60 , 36.40 ) minutes\n",
      "Interpretation: We are 90% confident the true mean commute time is between 25.60 and 36.40 minutes.\n"
     ]
    }
   ],
   "source": [
    "# Problem: Commute times for 32 students\n",
    "# Data: n=32, x̄=31 minutes, s=18 minutes\n",
    "# Tasks:\n",
    "# (a) Decide z vs t and explain.\n",
    "# (b) 95% CI for mean commute time + interpretation.\n",
    "# (c) 90% CI for mean commute time + interpretation.\n",
    "\n",
    "import math\n",
    "from scipy import stats\n",
    "\n",
    "# ---- Given ----\n",
    "n = 32\n",
    "x_bar = 31.0\n",
    "s = 18.0\n",
    "df = n - 1\n",
    "SE = s / math.sqrt(n)\n",
    "\n",
    "print(\"(a) Should we use z or t? \")\n",
    "sigma_known = False  # Population SD not given\n",
    "if (not sigma_known):\n",
    "    print(\"Use t-distribution (df = n - 1 = {}).\".format(df))\n",
    "    print(\"Reason: Population SD (σ) is unknown and we are estimating the mean from a sample.\\n\"\n",
    "          \"Even though n=32 is moderate, the correct one-sample mean interval uses t when σ is unknown.\\n\")\n",
    "else:\n",
    "    print(\"Use z-distribution (but this would require σ to be known).\")\n",
    "\n",
    "# Helper to format CI and interpretation\n",
    "def ci_mean_t(xbar, s, n, confidence):\n",
    "    df = n - 1\n",
    "    alpha = 1 - confidence\n",
    "    t_star = stats.t.ppf(1 - alpha/2, df)\n",
    "    SE = s / math.sqrt(n)\n",
    "    ME = t_star * SE\n",
    "    lower, upper = xbar - ME, xbar + ME\n",
    "    return t_star, SE, ME, lower, upper\n",
    "\n",
    "# ---- (b) 95% CI ----\n",
    "conf_95 = 0.95\n",
    "t95, SE95, ME95, lo95, up95 = ci_mean_t(x_bar, s, n, conf_95)\n",
    "\n",
    "print(\"(b) 95% Confidence Interval for the mean commute time\")\n",
    "print(f\"Standard Error (SE) = s/√n = {SE95:.3f} minutes\")\n",
    "print(f\"t* (df={df}, 95%) = {t95:.4f}\")\n",
    "print(f\"Margin of Error (ME) = t* × SE = {ME95:.3f} minutes\")\n",
    "print(f\"95% CI = ( {lo95:.2f} , {up95:.2f} ) minutes\")\n",
    "print(f\"Interpretation: We are 95% confident the true mean commute time is between \"\n",
    "      f\"{lo95:.2f} and {up95:.2f} minutes.\\n\")\n",
    "\n",
    "# ---- (c) 90% CI ----\n",
    "conf_90 = 0.90\n",
    "t90, SE90, ME90, lo90, up90 = ci_mean_t(x_bar, s, n, conf_90)\n",
    "\n",
    "print(\"(c) 90% Confidence Interval for the mean commute time\")\n",
    "print(f\"Standard Error (SE) = s/√n = {SE90:.3f} minutes\")\n",
    "print(f\"t* (df={df}, 90%) = {t90:.4f}\")\n",
    "print(f\"Margin of Error (ME) = t* × SE = {ME90:.3f} minutes\")\n",
    "print(f\"90% CI = ( {lo90:.2f} , {up90:.2f} ) minutes\")\n",
    "print(f\"Interpretation: We are 90% confident the true mean commute time is between \"\n",
    "      f\"{lo90:.2f} and {up90:.2f} minutes.\")\n"
   ]
  },
  {
   "cell_type": "markdown",
   "id": "5d6f1a8b",
   "metadata": {},
   "source": [
    "### 4 Confidence Interval - Coding Exercises."
   ]
  },
  {
   "cell_type": "code",
   "execution_count": 10,
   "id": "250ba84b",
   "metadata": {},
   "outputs": [
    {
     "name": "stdout",
     "output_type": "stream",
     "text": [
      "Standard Error (SE): 0.155563 days\n",
      "t-critical (df=49, 95%): 2.0096\n",
      "Margin of Error (ME): 0.312617 days\n",
      "95% CI for mean delivery time: (3.887, 4.513) days\n",
      "Cross-check (stats.t.interval): (3.887, 4.513) days\n"
     ]
    }
   ],
   "source": [
    "import numpy as np\n",
    "import scipy.stats as stats\n",
    "\n",
    "# Given data\n",
    "n = 50\n",
    "sample_mean = 4.2\n",
    "sample_std = 1.1\n",
    "confidence = 0.95\n",
    "\n",
    "# Step 1: compute the standard error\n",
    "SE = sample_std / np.sqrt(n)\n",
    "\n",
    "# Step 2: get the critical t value (two-sided)\n",
    "df = n - 1\n",
    "alpha = 1 - confidence\n",
    "t_crit = stats.t.ppf(1 - alpha/2, df)\n",
    "\n",
    "# Step 3: compute the margin of error\n",
    "ME = t_crit * SE\n",
    "\n",
    "# Step 4: build the confidence interval\n",
    "lower = sample_mean - ME\n",
    "upper = sample_mean + ME\n",
    "\n",
    "print(f\"Standard Error (SE): {SE:.6f} days\")\n",
    "print(f\"t-critical (df={df}, {int(confidence*100)}%): {t_crit:.4f}\")\n",
    "print(f\"Margin of Error (ME): {ME:.6f} days\")\n",
    "print(f\"{int(confidence*100)}% CI for mean delivery time: ({lower:.3f}, {upper:.3f}) days\")\n",
    "\n",
    "# (Optional) Cross-check using scipy's built-in interval helper\n",
    "lo2, hi2 = stats.t.interval(confidence, df, loc=sample_mean, scale=SE)\n",
    "print(f\"Cross-check (stats.t.interval): ({lo2:.3f}, {hi2:.3f}) days\")\n"
   ]
  },
  {
   "cell_type": "code",
   "execution_count": 11,
   "id": "28c2de24",
   "metadata": {},
   "outputs": [
    {
     "name": "stdout",
     "output_type": "stream",
     "text": [
      "Sample proportion (p̂): 0.3200\n",
      "Standard Error (SE): 0.0233\n",
      "z-critical (90%): 1.6449\n",
      "Margin of Error (ME): 0.0384\n",
      "90% CI for true proportion: (0.2816, 0.3584)\n",
      "In percentage: (28.16%, 35.84%)\n"
     ]
    }
   ],
   "source": [
    "import math\n",
    "from scipy import stats\n",
    "\n",
    "# Given data\n",
    "n = 400\n",
    "x = 128\n",
    "confidence = 0.90\n",
    "\n",
    "# Step 1: compute sample proportion\n",
    "p_hat = x / n\n",
    "\n",
    "# Step 2: compute standard error for proportion\n",
    "SE = math.sqrt(p_hat * (1 - p_hat) / n)\n",
    "\n",
    "# Step 3: find the z critical value\n",
    "alpha = 1 - confidence\n",
    "z_crit = stats.norm.ppf(1 - alpha/2)\n",
    "\n",
    "# Step 4: compute confidence interval\n",
    "ME = z_crit * SE\n",
    "lower = p_hat - ME\n",
    "upper = p_hat + ME\n",
    "\n",
    "print(f\"Sample proportion (p̂): {p_hat:.4f}\")\n",
    "print(f\"Standard Error (SE): {SE:.4f}\")\n",
    "print(f\"z-critical ({int(confidence*100)}%): {z_crit:.4f}\")\n",
    "print(f\"Margin of Error (ME): {ME:.4f}\")\n",
    "print(f\"{int(confidence*100)}% CI for true proportion: ({lower:.4f}, {upper:.4f})\")\n",
    "print(f\"In percentage: ({lower*100:.2f}%, {upper*100:.2f}%)\")\n"
   ]
  },
  {
   "cell_type": "code",
   "execution_count": 12,
   "id": "10aeea7e",
   "metadata": {},
   "outputs": [
    {
     "name": "stdout",
     "output_type": "stream",
     "text": [
      "Difference in means (A - B): 300.000\n",
      "Standard Error of difference: 137.528\n",
      "Welch's df: 72.476\n",
      "t-critical (95%): 1.9932\n",
      "Margin of Error: 274.126\n",
      "95% CI for (μ_A - μ_B): (25.874, 574.126)\n",
      "Does the CI include 0? No\n"
     ]
    }
   ],
   "source": [
    "import math\n",
    "from scipy import stats\n",
    "\n",
    "# Given data\n",
    "n1, mean1, std1 = 40, 5200, 610\n",
    "n2, mean2, std2 = 35, 4900, 580\n",
    "confidence = 0.95\n",
    "\n",
    "# Step 1: compute standard error for the difference (Welch's t)\n",
    "var1, var2 = std1**2, std2**2\n",
    "SE_diff = math.sqrt(var1/n1 + var2/n2)\n",
    "\n",
    "# Step 2: degrees of freedom (Welch’s approximation)\n",
    "num = (var1/n1 + var2/n2)**2\n",
    "den = ((var1/n1)**2) / (n1 - 1) + ((var2/n2)**2) / (n2 - 1)\n",
    "df = num / den\n",
    "\n",
    "# Step 3: get critical t value\n",
    "alpha = 1 - confidence\n",
    "t_crit = stats.t.ppf(1 - alpha/2, df)\n",
    "\n",
    "# Step 4: compute confidence interval for the difference (mean1 - mean2)\n",
    "diff = mean1 - mean2\n",
    "ME = t_crit * SE_diff\n",
    "lower = diff - ME\n",
    "upper = diff + ME\n",
    "\n",
    "print(f\"Difference in means (A - B): {diff:.3f}\")\n",
    "print(f\"Standard Error of difference: {SE_diff:.3f}\")\n",
    "print(f\"Welch's df: {df:.3f}\")\n",
    "print(f\"t-critical ({int(confidence*100)}%): {t_crit:.4f}\")\n",
    "print(f\"Margin of Error: {ME:.3f}\")\n",
    "print(f\"{int(confidence*100)}% CI for (μ_A - μ_B): ({lower:.3f}, {upper:.3f})\")\n",
    "\n",
    "# (Optional) also report whether zero is inside the CI (useful for practical significance)\n",
    "contains_zero = lower <= 0 <= upper\n",
    "print(f\"Does the CI include 0? {'Yes' if contains_zero else 'No'}\")\n"
   ]
  },
  {
   "cell_type": "code",
   "execution_count": 13,
   "id": "297ec278",
   "metadata": {},
   "outputs": [
    {
     "name": "stdout",
     "output_type": "stream",
     "text": [
      "95% CI coverage: 96/100 (96%) intervals contain the true mean 3.6\n"
     ]
    },
    {
     "data": {
      "image/png": "[encoded data removed]",
      "text/plain": [
       "<Figure size 900x1000 with 1 Axes>"
      ]
     },
     "metadata": {},
     "output_type": "display_data"
    }
   ],
   "source": [
    "import numpy as np\n",
    "import matplotlib.pyplot as plt\n",
    "from scipy import stats\n",
    "\n",
    "\n",
    "# Exercise 4 - Visualizing CIs\n",
    "\n",
    "\n",
    "# Given / Settings\n",
    "true_mu = 3.6\n",
    "pop_sigma = 0.8      # population SD (given for simulation only)\n",
    "n = 30               # sample size\n",
    "n_sims = 100         # number of samples\n",
    "confidence = 0.95\n",
    "alpha = 1 - confidence\n",
    "df = n - 1\n",
    "rng = np.random.default_rng(42)  # reproducibility\n",
    "\n",
    "# Step 1: simulate 100 samples of size 30 from N(3.6, 0.8)\n",
    "# (We use the population SD for generating data; CI uses sample SD)\n",
    "samples = rng.normal(loc=true_mu, scale=pop_sigma, size=(n_sims, n))\n",
    "\n",
    "# Step 2 & 3: compute CI for each sample (t-interval), store bounds and coverage\n",
    "means = samples.mean(axis=1)\n",
    "sds = samples.std(axis=1, ddof=1)\n",
    "SEs = sds / np.sqrt(n)\n",
    "t_crit = stats.t.ppf(1 - alpha/2, df)\n",
    "\n",
    "lower_bounds = means - t_crit * SEs\n",
    "upper_bounds = means + t_crit * SEs\n",
    "contains_true = (lower_bounds <= true_mu) & (upper_bounds >= true_mu)\n",
    "coverage_count = contains_true.sum()\n",
    "\n",
    "print(f\"{int(confidence*100)}% CI coverage: {coverage_count}/{n_sims} \"\n",
    "      f\"({coverage_count/n_sims:.0%}) intervals contain the true mean {true_mu}\")\n",
    "\n",
    "# Step 4: plot intervals, color by coverage\n",
    "y = np.arange(n_sims)\n",
    "\n",
    "plt.figure(figsize=(9, 10))\n",
    "\n",
    "for i in range(n_sims):\n",
    "    color = 'tab:blue' if contains_true[i] else 'tab:red'\n",
    "    # plot the CI as a horizontal line\n",
    "    plt.hlines(y=i, xmin=lower_bounds[i], xmax=upper_bounds[i], colors=color, linewidth=2)\n",
    "    # mark the sample mean\n",
    "    plt.plot(means[i], i, 'o', color=color, markersize=4)\n",
    "\n",
    "# draw a vertical line at the true mean\n",
    "plt.axvline(true_mu, linestyle='--', linewidth=2)\n",
    "\n",
    "plt.title(f\"{int(confidence*100)}% Confidence Intervals for 100 Samples\\n\"\n",
    "          f\"Coverage: {coverage_count}/{n_sims} contain the true mean ({true_mu})\")\n",
    "plt.xlabel(\"Customer rating (1–5)\")\n",
    "plt.ylabel(\"Sample index\")\n",
    "plt.gca().invert_yaxis()  # top to bottom ordering\n",
    "plt.tight_layout()\n",
    "plt.show()\n"
   ]
  }
 ],
 "metadata": {
  "kernelspec": {
   "display_name": "venv",
   "language": "python",
   "name": "python3"
  },
  "language_info": {
   "codemirror_mode": {
    "name": "ipython",
    "version": 3
   },
   "file_extension": ".py",
   "mimetype": "text/x-python",
   "name": "python",
   "nbconvert_exporter": "python",
   "pygments_lexer": "ipython3",
   "version": "3.13.0"
  }
 },
 "nbformat": 4,
 "nbformat_minor": 5
}
